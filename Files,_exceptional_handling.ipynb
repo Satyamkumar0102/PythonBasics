{
  "nbformat": 4,
  "nbformat_minor": 0,
  "metadata": {
    "colab": {
      "provenance": []
    },
    "kernelspec": {
      "name": "python3",
      "display_name": "Python 3"
    },
    "language_info": {
      "name": "python"
    }
  },
  "cells": [
    {
      "cell_type": "markdown",
      "source": [
        " 1. Difference between interpreted and compiled languages\n",
        " -  Ans: Interpreted languages execute line by line (e.g., Python), while compiled languages are\n",
        " translated into machine code before execution (e.g., C, Java). Compiled languages generally run\n",
        " faster."
      ],
      "metadata": {
        "id": "Z8Hx2hzouPhi"
      }
    },
    {
      "cell_type": "markdown",
      "source": [
        " 2. Exception handling in Python\n",
        " - Ans: Exception handling allows the program to handle runtime errors gracefully using try, except,\n",
        " else, and finally blocks."
      ],
      "metadata": {
        "id": "YwK5YGdquSsX"
      }
    },
    {
      "cell_type": "markdown",
      "source": [
        " 3. Purpose of finally block\n",
        " - Ans: The finally block executes code regardless of whether an exception occurred, commonly used\n",
        " to release resources."
      ],
      "metadata": {
        "id": "O84ddDBzuWDV"
      }
    },
    {
      "cell_type": "markdown",
      "source": [
        " 4. Logging in Python\n",
        " - Ans: Logging records messages that track the flow of a program, errors, or system events, useful for\n",
        " debugging and maintenance."
      ],
      "metadata": {
        "id": "0h6bu-5Yuazz"
      }
    },
    {
      "cell_type": "markdown",
      "source": [
        "5. Significance of __del__ method\n",
        " - Ans: __del__ is a destructor method automatically called when an object is about to be destroyed,\n",
        " helping in resource cleanup."
      ],
      "metadata": {
        "id": "MlXtpHtAu7nu"
      }
    },
    {
      "cell_type": "markdown",
      "source": [
        " 6. Difference between import and from ... import\n",
        " - Ans: 'import' brings the entire module, while 'from module import function' imports specific parts of a\n",
        " module"
      ],
      "metadata": {
        "id": "OPuotwEQu_fO"
      }
    },
    {
      "cell_type": "markdown",
      "source": [
        " 7. Handling multiple exceptions\n",
        " - Ans: Use multiple except blocks or a tuple: except (TypeError, ValueError) as e: handle_error()"
      ],
      "metadata": {
        "id": "hZ8BP9NCvYVo"
      }
    },
    {
      "cell_type": "markdown",
      "source": [
        " 8. Purpose of with statement\n",
        " - Ans: It ensures automatic file closure after operations, even if exceptions occur."
      ],
      "metadata": {
        "id": "l_r1PzIkvcz0"
      }
    },
    {
      "cell_type": "markdown",
      "source": [
        " 9. Multithreading vs Multiprocessing\n",
        " - Ans: Multithreading runs multiple threads in one process sharing memory; multiprocessing uses\n",
        " multiple processes with separate memory."
      ],
      "metadata": {
        "id": "13jpc43bvjIq"
      }
    },
    {
      "cell_type": "markdown",
      "source": [
        " 10. Advantages of logging\n",
        " - Ans: It helps trace execution flow, find bugs, record runtime information, and track system behavior."
      ],
      "metadata": {
        "id": "iCvhEjXYvpxY"
      }
    },
    {
      "cell_type": "markdown",
      "source": [
        "11. Memory management in Python\n",
        " - Ans: Python manages memory automatically using reference counting and garbage collection."
      ],
      "metadata": {
        "id": "LwVvt5mevsaD"
      }
    },
    {
      "cell_type": "markdown",
      "source": [
        " 12. Steps in exception handling\n",
        " - Ans: 1. Try block with risky code\n",
        " - 2. Except block for handling\n",
        "- 3. Else block for no exceptions\n",
        " - 4. Finally block for cleanup."
      ],
      "metadata": {
        "id": "DLK-uCkVvxeh"
      }
    },
    {
      "cell_type": "markdown",
      "source": [
        " 13. Importance of memory management\n",
        " - Ans: Efficient memory use prevents crashes and improves performance"
      ],
      "metadata": {
        "id": "xNsISOWov5cv"
      }
    },
    {
      "cell_type": "markdown",
      "source": [
        " 14. Role of try and except\n",
        " - Ans: try identifies risky code; except handles specific or general errors that occur within try."
      ],
      "metadata": {
        "id": "XvrxcGKDv83X"
      }
    },
    {
      "cell_type": "markdown",
      "source": [
        "15. Python garbage collection\n",
        " - Ans: It reclaims memory by removing objects with zero references using reference counting and\n",
        " cyclic GC."
      ],
      "metadata": {
        "id": "X0bIA957wBdu"
      }
    },
    {
      "cell_type": "markdown",
      "source": [
        "16. Purpose of else block\n",
        " - Ans: The else block runs if no exception occurs in the try block."
      ],
      "metadata": {
        "id": "6aXtF3T3wEH3"
      }
    },
    {
      "cell_type": "markdown",
      "source": [
        " 17. Common logging levels\n",
        " - Ans: DEBUG, INFO, WARNING, ERROR, CRITICAL."
      ],
      "metadata": {
        "id": "kfF6yR6awGkq"
      }
    },
    {
      "cell_type": "markdown",
      "source": [
        " 18. os.fork() vs multiprocessing\n",
        " - Ans: os.fork() directly creates a new process (Unix-only); multiprocessing is cross-platform and\n",
        " offers high-level API control."
      ],
      "metadata": {
        "id": "mSbJELtVwJBg"
      }
    },
    {
      "cell_type": "markdown",
      "source": [
        " 19. Importance of closing a file\n",
        " - Ans: Closing releases system resources and ensures data is written properly."
      ],
      "metadata": {
        "id": "ytqsRkNAwLbV"
      }
    },
    {
      "cell_type": "markdown",
      "source": [
        " 20. Difference between file.read() and file.readline()\n",
        " - Ans: file.read() reads the entire file; file.readline() reads one line at a time"
      ],
      "metadata": {
        "id": "b9ZlDWNswOEq"
      }
    },
    {
      "cell_type": "markdown",
      "source": [
        " 21. Logging module usage\n",
        " - Ans: Used to record log messages to files or console for debugging and monitoring"
      ],
      "metadata": {
        "id": "M0gj2xJBwT4R"
      }
    },
    {
      "cell_type": "markdown",
      "source": [
        " 22. os module usage in file handling\n",
        " - Ans: Used for file path operations, checking existence, deleting, and renaming files"
      ],
      "metadata": {
        "id": "X7kLC8fuwXOi"
      }
    },
    {
      "cell_type": "markdown",
      "source": [
        "23. Memory management challenges\n",
        " - Ans: Circular references, large data structures, and memory leaks"
      ],
      "metadata": {
        "id": "TWQTJDEGwcrk"
      }
    },
    {
      "cell_type": "markdown",
      "source": [
        " 24. Raising exceptions manually\n",
        " - Ans: Use raise keyword: raise ValueError('Invalid input')."
      ],
      "metadata": {
        "id": "vFCP7a-5wfHU"
      }
    },
    {
      "cell_type": "markdown",
      "source": [
        " 25. Importance of multithreading\n",
        " - Ans: Useful for concurrent tasks like I/O operations and improving responsiveness"
      ],
      "metadata": {
        "id": "dYypafw9wiSu"
      }
    },
    {
      "cell_type": "markdown",
      "source": [
        " 1. How can you open a file for writing in Python and write a string to it\n"
      ],
      "metadata": {
        "id": "c8wQ2nnUwjdm"
      }
    },
    {
      "cell_type": "code",
      "source": [
        "\n",
        "file = open(\"example.txt\", \"w\")\n",
        "\n",
        "\n",
        "file.write(\"Hello, this is a file writing example in Python!\")\n",
        "\n",
        "file.close()\n"
      ],
      "metadata": {
        "id": "ps_k2n_Bw2U2"
      },
      "execution_count": null,
      "outputs": []
    },
    {
      "cell_type": "markdown",
      "source": [
        "2. Write a Python program to read the contents of a file and print each line"
      ],
      "metadata": {
        "id": "4LBHmHolw_gS"
      }
    },
    {
      "cell_type": "code",
      "source": [
        "\n",
        "with open(\"example.txt\", \"r\") as file:\n",
        "    for line in file:\n",
        "        print(line.strip())\n"
      ],
      "metadata": {
        "colab": {
          "base_uri": "https://localhost:8080/"
        },
        "id": "r4QJI9tRxDhH",
        "outputId": "68199096-8e25-4e62-b6d4-0f716be80f88"
      },
      "execution_count": null,
      "outputs": [
        {
          "output_type": "stream",
          "name": "stdout",
          "text": [
            "Hello, this is a file writing example in Python!\n"
          ]
        }
      ]
    },
    {
      "cell_type": "markdown",
      "source": [
        "3.How would you handle a case where the file doesn't exist while trying to open it for reading"
      ],
      "metadata": {
        "id": "X94WJ68mxLZC"
      }
    },
    {
      "cell_type": "code",
      "source": [
        "try:\n",
        "    with open('file.txt', 'r') as f:\n",
        "        data = f.read()\n",
        "except FileNotFoundError:\n",
        "    print(\"File not found.\")\n",
        "except Exception as e:\n",
        "    print(\"Error reading file:\", e)"
      ],
      "metadata": {
        "id": "qE3GXoRdxSRV",
        "colab": {
          "base_uri": "https://localhost:8080/"
        },
        "outputId": "11ffe87c-b360-46af-92d7-74ce6fe1a768"
      },
      "execution_count": 1,
      "outputs": [
        {
          "output_type": "stream",
          "name": "stdout",
          "text": [
            "File not found.\n"
          ]
        }
      ]
    },
    {
      "cell_type": "markdown",
      "source": [
        "  4.Write a Python script that reads from one file and writes its content to another file"
      ],
      "metadata": {
        "id": "EmKaZzdmtNB9"
      }
    },
    {
      "cell_type": "code",
      "source": [
        "def copy_file(source_path, destination_path):\n",
        "    try:\n",
        "        with open(source_path, 'r') as source_file:\n",
        "            content = source_file.read()\n",
        "\n",
        "        with open(destination_path, 'w') as destination_file:\n",
        "            destination_file.write(content)\n",
        "\n",
        "        print(f\"Content copied from '{source_path}' to '{destination_path}' successfully.\")\n",
        "\n",
        "    except FileNotFoundError:\n",
        "        print(f\"Error: The file '{source_path}' does not exist.\")\n",
        "    except IOError as e:\n",
        "        print(f\"I/O error occurred: {e}\")\n",
        "\n",
        "\n",
        "copy_file('input.txt', 'output.txt')"
      ],
      "metadata": {
        "colab": {
          "base_uri": "https://localhost:8080/"
        },
        "id": "X_7PTAgTtNmg",
        "outputId": "8a02852d-85dc-4861-9e6b-3dd2d967fb3b"
      },
      "execution_count": 3,
      "outputs": [
        {
          "output_type": "stream",
          "name": "stdout",
          "text": [
            "Error: The file 'input.txt' does not exist.\n"
          ]
        }
      ]
    },
    {
      "cell_type": "markdown",
      "source": [
        " 5.How would you catch and handle division by zero error in Python"
      ],
      "metadata": {
        "id": "mOZGQvFrtSjo"
      }
    },
    {
      "cell_type": "code",
      "source": [
        "def safe_divide(a, b):\n",
        "    try:\n",
        "        result = a / b\n",
        "        print(f\"Result: {result}\")\n",
        "    except ZeroDivisionError:\n",
        "        print(\"Error: Division by zero is not allowed.\")\n",
        "    except Exception as e:\n",
        "        print(f\"Unexpected error: {e}\")\n",
        "\n",
        "\n",
        "safe_divide(10, 2)\n",
        "safe_divide(10, 0)"
      ],
      "metadata": {
        "colab": {
          "base_uri": "https://localhost:8080/"
        },
        "id": "D-vcSa7Ata5D",
        "outputId": "a0b29843-e0d5-46d4-dc8e-30b341074a8a"
      },
      "execution_count": 4,
      "outputs": [
        {
          "output_type": "stream",
          "name": "stdout",
          "text": [
            "Result: 5.0\n",
            "Error: Division by zero is not allowed.\n"
          ]
        }
      ]
    },
    {
      "cell_type": "markdown",
      "source": [
        "6.  Write a Python program that logs an error message to a log file when a division by zero exception occurs"
      ],
      "metadata": {
        "id": "6u7LlCCztglc"
      }
    },
    {
      "cell_type": "code",
      "source": [
        "import logging\n",
        "\n",
        "\n",
        "logging.basicConfig(\n",
        "    filename='error_log.txt',\n",
        "    level=logging.ERROR,\n",
        "    format='%(asctime)s - %(levelname)s - %(message)s'\n",
        ")\n",
        "\n",
        "def safe_divide(a, b):\n",
        "    try:\n",
        "        result = a / b\n",
        "        print(f\"Result: {result}\")\n",
        "    except ZeroDivisionError as e:\n",
        "        logging.error(\"Division by zero attempted: %s\", e)\n",
        "        print(\"Error: Division by zero is not allowed.\")\n",
        "\n",
        "\n",
        "safe_divide(10, 2)\n",
        "safe_divide(10, 0)"
      ],
      "metadata": {
        "colab": {
          "base_uri": "https://localhost:8080/"
        },
        "id": "A86hZj_BtklJ",
        "outputId": "4acd8017-1430-44d8-a020-b824c9d76820"
      },
      "execution_count": 6,
      "outputs": [
        {
          "output_type": "stream",
          "name": "stderr",
          "text": [
            "ERROR:root:Division by zero attempted: division by zero\n"
          ]
        },
        {
          "output_type": "stream",
          "name": "stdout",
          "text": [
            "Result: 5.0\n",
            "Error: Division by zero is not allowed.\n"
          ]
        }
      ]
    },
    {
      "cell_type": "markdown",
      "source": [
        "7. How do you log information at different levels (INFO, ERROR, WARNING) in Python using the logging module"
      ],
      "metadata": {
        "id": "wH7rKXiAtqr3"
      }
    },
    {
      "cell_type": "code",
      "source": [
        "import logging\n",
        "\n",
        "\n",
        "logging.basicConfig(\n",
        "    filename='app.log',\n",
        "    level=logging.DEBUG,\n",
        "    format='%(asctime)s - %(levelname)s - %(message)s'\n",
        ")\n",
        "\n",
        "logging.debug(\"This is a debug message.\")\n",
        "logging.info(\"This is an info message.\")\n",
        "logging.warning(\"This is a warning message.\")\n",
        "logging.error(\"This is an error message.\")\n",
        "logging.critical(\"This is a critical message.\")"
      ],
      "metadata": {
        "colab": {
          "base_uri": "https://localhost:8080/"
        },
        "id": "9zyEtFm8tv-B",
        "outputId": "0f489e62-1758-4561-c372-5b87dffd6b15"
      },
      "execution_count": 8,
      "outputs": [
        {
          "output_type": "stream",
          "name": "stderr",
          "text": [
            "WARNING:root:This is a warning message.\n",
            "ERROR:root:This is an error message.\n",
            "CRITICAL:root:This is a critical message.\n"
          ]
        }
      ]
    },
    {
      "cell_type": "markdown",
      "source": [
        "8.  Write a program to handle a file opening error using exception handling"
      ],
      "metadata": {
        "id": "oR0KVp1bt5KK"
      }
    },
    {
      "cell_type": "code",
      "source": [
        "def open_file_safely(filename):\n",
        "    try:\n",
        "        with open(filename, 'r') as file:\n",
        "            content = file.read()\n",
        "            print(\"File content:\\n\", content)\n",
        "    except FileNotFoundError:\n",
        "        print(f\"Error: The file '{filename}' was not found.\")\n",
        "    except IOError as e:\n",
        "        print(f\"Error opening file '{filename}': {e}\")\n",
        "\n",
        "\n",
        "open_file_safely(\"example.txt\")"
      ],
      "metadata": {
        "colab": {
          "base_uri": "https://localhost:8080/"
        },
        "id": "VnBvRp8Qt72n",
        "outputId": "bd81aae5-dcab-4e90-caf4-1ca71bfe5403"
      },
      "execution_count": 10,
      "outputs": [
        {
          "output_type": "stream",
          "name": "stdout",
          "text": [
            "Error: The file 'example.txt' was not found.\n"
          ]
        }
      ]
    },
    {
      "cell_type": "markdown",
      "source": [
        "9.  How can you read a file line by line and store its content in a list in Python\n"
      ],
      "metadata": {
        "id": "IhUlEjNkuBU9"
      }
    },
    {
      "cell_type": "code",
      "source": [
        "def read_lines_to_list(filename):\n",
        "    try:\n",
        "        with open(filename, 'r') as file:\n",
        "            lines = [line.strip() for line in file]\n",
        "        return lines\n",
        "    except FileNotFoundError:\n",
        "        print(f\"Error: The file '{filename}' was not found.\")\n",
        "        return []"
      ],
      "metadata": {
        "id": "gV8ymgYTuEWo"
      },
      "execution_count": 11,
      "outputs": []
    },
    {
      "cell_type": "markdown",
      "source": [
        "10. How can you append data to an existing file in Python"
      ],
      "metadata": {
        "id": "YsGn0HFRuMYa"
      }
    },
    {
      "cell_type": "code",
      "source": [
        "def append_to_file(filename, data):\n",
        "    try:\n",
        "        with open(filename, 'a') as file:\n",
        "            file.write(data + '\\n')\n",
        "        print(f\"Data appended to '{filename}' successfully.\")\n",
        "    except IOError as e:\n",
        "        print(f\"Error appending to file: {e}\")\n",
        "\n",
        "append_to_file('example.txt', 'This is a new line.')"
      ],
      "metadata": {
        "colab": {
          "base_uri": "https://localhost:8080/"
        },
        "id": "ZbWOHgEauQB9",
        "outputId": "f8c4bb4d-384c-47f2-c24c-09a49c1b6ec1"
      },
      "execution_count": 14,
      "outputs": [
        {
          "output_type": "stream",
          "name": "stdout",
          "text": [
            "Data appended to 'example.txt' successfully.\n"
          ]
        }
      ]
    },
    {
      "cell_type": "markdown",
      "source": [
        "11.Write a Python program that uses a try-except block to handle an error when attempting to access a\n",
        "dictionary key that doesn't exist\n"
      ],
      "metadata": {
        "id": "MDgiiczNuXMA"
      }
    },
    {
      "cell_type": "code",
      "source": [
        "def get_value_from_dict(data, key):\n",
        "    try:\n",
        "        value = data[key]\n",
        "        print(f\"Value for '{key}': {value}\")\n",
        "    except KeyError:\n",
        "        print(f\"Error: Key '{key}' not found in the dictionary.\")\n",
        "\n",
        "\n",
        "my_dict = {\n",
        "    \"name\": \"Satyam\",\n",
        "    \"age\": 22\n",
        "}\n",
        "\n",
        "get_value_from_dict(my_dict, \"name\")\n",
        "get_value_from_dict(my_dict, \"location\")"
      ],
      "metadata": {
        "colab": {
          "base_uri": "https://localhost:8080/"
        },
        "id": "iafjLUPoubIi",
        "outputId": "626ed288-4523-4cc5-dc54-343b6ee9e018"
      },
      "execution_count": 15,
      "outputs": [
        {
          "output_type": "stream",
          "name": "stdout",
          "text": [
            "Value for 'name': Satyam\n",
            "Error: Key 'location' not found in the dictionary.\n"
          ]
        }
      ]
    },
    {
      "cell_type": "markdown",
      "source": [
        "12. Write a program that demonstrates using multiple except blocks to handle different types of exceptions"
      ],
      "metadata": {
        "id": "JaWPG-1qvM_4"
      }
    },
    {
      "cell_type": "code",
      "source": [
        "def process_input(a, b):\n",
        "    try:\n",
        "        result = a / b\n",
        "        print(f\"Result: {result}\")\n",
        "    except ZeroDivisionError:\n",
        "        print(\"Error: Cannot divide by zero.\")\n",
        "    except ValueError:\n",
        "        print(\"Error: Invalid value provided.\")\n",
        "    except TypeError:\n",
        "        print(\"Error: Unsupported operand types for division.\")\n",
        "    except Exception as e:\n",
        "        print(f\"Unexpected error: {e}\")\n",
        "\n",
        "process_input(10, 2)\n",
        "process_input(10, 0)\n",
        "process_input(\"10\", 2)\n",
        "process_input(10, \"two\")"
      ],
      "metadata": {
        "colab": {
          "base_uri": "https://localhost:8080/"
        },
        "id": "a1_UttWBvT0_",
        "outputId": "173c635d-ca21-4b0f-e0a8-fec5ddee7de3"
      },
      "execution_count": 17,
      "outputs": [
        {
          "output_type": "stream",
          "name": "stdout",
          "text": [
            "Result: 5.0\n",
            "Error: Cannot divide by zero.\n",
            "Error: Unsupported operand types for division.\n",
            "Error: Unsupported operand types for division.\n"
          ]
        }
      ]
    },
    {
      "cell_type": "markdown",
      "source": [
        "13 .How would you check if a file exists before attempting to read it in Python"
      ],
      "metadata": {
        "id": "SAmsRPeXvZem"
      }
    },
    {
      "cell_type": "code",
      "source": [
        "import os\n",
        "\n",
        "filename = \"example.txt\"\n",
        "\n",
        "if os.path.exists(filename):\n",
        "    with open(filename, 'r') as file:\n",
        "        content = file.read()\n",
        "        print(content)\n",
        "else:\n",
        "    print(f\"Error: The file '{filename}' does not exist.\")"
      ],
      "metadata": {
        "colab": {
          "base_uri": "https://localhost:8080/"
        },
        "id": "zGD21fQsvdO0",
        "outputId": "af1668c8-a9b4-475a-f83c-dea4c5b52e17"
      },
      "execution_count": 18,
      "outputs": [
        {
          "output_type": "stream",
          "name": "stdout",
          "text": [
            "This is a new line.\n",
            "This is a new line.\n",
            "\n"
          ]
        }
      ]
    },
    {
      "cell_type": "markdown",
      "source": [
        "14.  Write a program that uses the logging module to log both informational and error messages"
      ],
      "metadata": {
        "id": "KLcGD1o1vrR0"
      }
    },
    {
      "cell_type": "code",
      "source": [
        "import logging\n",
        "\n",
        "\n",
        "logging.basicConfig(\n",
        "    filename='app.log',\n",
        "    level=logging.INFO,\n",
        "    format='%(asctime)s - %(levelname)s - %(message)s'\n",
        ")\n",
        "\n",
        "def divide(a, b):\n",
        "    logging.info(f\"Attempting to divide {a} by {b}\")\n",
        "    try:\n",
        "        result = a / b\n",
        "        logging.info(f\"Division successful: {result}\")\n",
        "        return result\n",
        "    except ZeroDivisionError as e:\n",
        "        logging.error(f\"Division failed: {e}\")\n",
        "        return None\n",
        "divide(10, 2)\n",
        "divide(10, 0)"
      ],
      "metadata": {
        "colab": {
          "base_uri": "https://localhost:8080/"
        },
        "id": "MWSIhVw4vtxy",
        "outputId": "f76a7348-653b-44be-df6e-f1d10e23591c"
      },
      "execution_count": 19,
      "outputs": [
        {
          "output_type": "stream",
          "name": "stderr",
          "text": [
            "ERROR:root:Division failed: division by zero\n"
          ]
        }
      ]
    },
    {
      "cell_type": "markdown",
      "source": [
        "15. Write a Python program that prints the content of a file and handles the case when the file is empty"
      ],
      "metadata": {
        "id": "lkVdrSRwv4n9"
      }
    },
    {
      "cell_type": "code",
      "source": [
        "def print_file_content(filename):\n",
        "    try:\n",
        "        with open(filename, 'r') as file:\n",
        "            content = file.read()\n",
        "            if content.strip():\n",
        "                print(\"File content:\\n\", content)\n",
        "            else:\n",
        "                print(f\"The file '{filename}' is empty.\")\n",
        "    except FileNotFoundError:\n",
        "        print(f\"Error: The file '{filename}' was not found.\")\n",
        "    except IOError as e:\n",
        "        print(f\"Error reading file '{filename}': {e}\")\n",
        "\n",
        "\n",
        "print_file_content(\"example.txt\")"
      ],
      "metadata": {
        "colab": {
          "base_uri": "https://localhost:8080/"
        },
        "id": "Z2s26oIev8Nu",
        "outputId": "66cba152-5d4c-4ca9-9e25-7d0a201de2d4"
      },
      "execution_count": 21,
      "outputs": [
        {
          "output_type": "stream",
          "name": "stdout",
          "text": [
            "File content:\n",
            " This is a new line.\n",
            "This is a new line.\n",
            "\n"
          ]
        }
      ]
    },
    {
      "cell_type": "markdown",
      "source": [
        " 16. Demonstrate how to use memory profiling to check the memory usage of a small program"
      ],
      "metadata": {
        "id": "7EI9Q5fRwFb-"
      }
    },
    {
      "cell_type": "markdown",
      "source": [
        " step 1-> pip install memory-profiler"
      ],
      "metadata": {
        "id": "C34X7p5-wQUS"
      }
    },
    {
      "cell_type": "markdown",
      "source": [
        " step 2- >from memory_profiler import profile\n",
        "\n",
        "@profile\n",
        "def process_data():\n",
        "    data = [x * 2 for x in range(100000)]  # Simulate memory usage\n",
        "    return sum(data)\n",
        "\n",
        "if __name__ == \"__main__\":\n",
        "    process_data()"
      ],
      "metadata": {
        "id": "0VZqXferwS-g"
      }
    },
    {
      "cell_type": "markdown",
      "source": [
        " step 3-> python -m memory_profiler your_script.py"
      ],
      "metadata": {
        "id": "0A1YJKX-wUE5"
      }
    },
    {
      "cell_type": "markdown",
      "source": [
        "17. Write a Python program to create and write a list of numbers to a file, one number per line"
      ],
      "metadata": {
        "id": "765rBj6awcmm"
      }
    },
    {
      "cell_type": "code",
      "source": [
        "def write_numbers_to_file(filename, numbers):\n",
        "    try:\n",
        "        with open(filename, 'w') as file:\n",
        "            for number in numbers:\n",
        "                file.write(f\"{number}\\n\")\n",
        "        print(f\"Successfully wrote {len(numbers)} numbers to '{filename}'.\")\n",
        "    except IOError as e:\n",
        "        print(f\"Error writing to file: {e}\")\n",
        "\n",
        "\n",
        "number_list = list(range(1, 11))\n",
        "write_numbers_to_file(\"numbers.txt\", number_list)"
      ],
      "metadata": {
        "colab": {
          "base_uri": "https://localhost:8080/"
        },
        "id": "a5mXVhTow4A4",
        "outputId": "f2ba1378-a768-4414-82b4-bbd5ff35259b"
      },
      "execution_count": 23,
      "outputs": [
        {
          "output_type": "stream",
          "name": "stdout",
          "text": [
            "Successfully wrote 10 numbers to 'numbers.txt'.\n"
          ]
        }
      ]
    },
    {
      "cell_type": "markdown",
      "source": [
        "18. How would you implement a basic logging setup that logs to a file with rotation after 1MB"
      ],
      "metadata": {
        "id": "v0_rv7OKxC31"
      }
    },
    {
      "cell_type": "code",
      "source": [
        "import logging\n",
        "from logging.handlers import RotatingFileHandler\n",
        "\n",
        "# Set up rotating file handler\n",
        "log_handler = RotatingFileHandler(\n",
        "    filename='app.log',       # Log file name\n",
        "    maxBytes=1 * 1024 * 1024, # 1MB size limit\n",
        "    backupCount=3             # Keep up to 3 backup files\n",
        ")\n",
        "\n",
        "# Set log format\n",
        "formatter = logging.Formatter('%(asctime)s - %(levelname)s - %(message)s')\n",
        "log_handler.setFormatter(formatter)\n",
        "\n",
        "# Set up logger\n",
        "logger = logging.getLogger('MyLogger')\n",
        "logger.setLevel(logging.INFO)\n",
        "logger.addHandler(log_handler)\n",
        "\n",
        "# Example log messages\n",
        "logger.info(\"Application started.\")\n",
        "logger.error(\"An error occurred.\")"
      ],
      "metadata": {
        "colab": {
          "base_uri": "https://localhost:8080/"
        },
        "id": "bvynk_ZlxTdY",
        "outputId": "f18523ea-ea98-45ed-ff2c-c02cec7a39bc"
      },
      "execution_count": 24,
      "outputs": [
        {
          "output_type": "stream",
          "name": "stderr",
          "text": [
            "INFO:MyLogger:Application started.\n",
            "ERROR:MyLogger:An error occurred.\n"
          ]
        }
      ]
    },
    {
      "cell_type": "markdown",
      "source": [
        "19. Write a program that handles both IndexError and KeyError using a try-except block"
      ],
      "metadata": {
        "id": "HbsGfmaYxVe0"
      }
    },
    {
      "cell_type": "code",
      "source": [
        "def access_data():\n",
        "    my_list = [10, 20, 30]\n",
        "    my_dict = {\"name\": \"Satyam\", \"age\": 22}\n",
        "\n",
        "    try:\n",
        "        # Attempt to access an invalid index\n",
        "        print(\"List item at index 5:\", my_list[5])\n",
        "\n",
        "        # Attempt to access a missing key\n",
        "        print(\"City:\", my_dict[\"city\"])\n",
        "\n",
        "    except IndexError:\n",
        "        print(\"Error: List index out of range.\")\n",
        "\n",
        "    except KeyError:\n",
        "        print(\"Error: Key not found in dictionary.\")\n",
        "\n",
        "# Run the function\n",
        "access_data()"
      ],
      "metadata": {
        "colab": {
          "base_uri": "https://localhost:8080/"
        },
        "id": "SCKKcg6HxZmt",
        "outputId": "b87053a6-8246-487f-ff12-d8a4be7cbee6"
      },
      "execution_count": 25,
      "outputs": [
        {
          "output_type": "stream",
          "name": "stdout",
          "text": [
            "Error: List index out of range.\n"
          ]
        }
      ]
    },
    {
      "cell_type": "markdown",
      "source": [
        "20. How would you open a file and read its contents using a context manager in Python"
      ],
      "metadata": {
        "id": "jz44R-W7xkZ1"
      }
    },
    {
      "cell_type": "code",
      "source": [
        "filename = \"example.txt\"\n",
        "\n",
        "try:\n",
        "    with open(filename, 'r') as file:\n",
        "        content = file.read()\n",
        "        print(\"File content:\\n\", content)\n",
        "except FileNotFoundError:\n",
        "    print(f\"Error: The file '{filename}' was not found.\")\n",
        "except IOError as e:\n",
        "    print(f\"Error reading file: {e}\")"
      ],
      "metadata": {
        "colab": {
          "base_uri": "https://localhost:8080/"
        },
        "id": "PhgfULmHxnMV",
        "outputId": "f3d2e755-1278-4925-f0ca-24b1d379177f"
      },
      "execution_count": 26,
      "outputs": [
        {
          "output_type": "stream",
          "name": "stdout",
          "text": [
            "File content:\n",
            " This is a new line.\n",
            "This is a new line.\n",
            "\n"
          ]
        }
      ]
    },
    {
      "cell_type": "markdown",
      "source": [
        "21. Write a Python program that reads a file and prints the number of occurrences of a specific word"
      ],
      "metadata": {
        "id": "egiyJonByG3c"
      }
    },
    {
      "cell_type": "code",
      "source": [
        "import string\n",
        "\n",
        "def count_word_occurrences(filename, target_word):\n",
        "    try:\n",
        "        with open(filename, 'r') as file:\n",
        "            content = file.read()\n",
        "\n",
        "            # Normalize content: lowercase and remove punctuation\n",
        "            translator = str.maketrans('', '', string.punctuation)\n",
        "            cleaned_content = content.lower().translate(translator)\n",
        "\n",
        "            # Split into words and count\n",
        "            words = cleaned_content.split()\n",
        "            count = words.count(target_word.lower())\n",
        "\n",
        "            print(f\"The word '{target_word}' occurs {count} times in '{filename}'.\")\n",
        "    except FileNotFoundError:\n",
        "        print(f\"Error: The file '{filename}' was not found.\")\n",
        "    except IOError as e:\n",
        "        print(f\"Error reading file: {e}\")\n",
        "\n",
        "\n",
        "count_word_occurrences(\"example.txt\", \"python\")"
      ],
      "metadata": {
        "colab": {
          "base_uri": "https://localhost:8080/"
        },
        "id": "ETdfIoWDyKl6",
        "outputId": "b214f875-1c67-48d9-f068-9b768fa0ce0a"
      },
      "execution_count": 27,
      "outputs": [
        {
          "output_type": "stream",
          "name": "stdout",
          "text": [
            "The word 'python' occurs 0 times in 'example.txt'.\n"
          ]
        }
      ]
    },
    {
      "cell_type": "markdown",
      "source": [
        "22. How can you check if a file is empty before attempting to read its contents"
      ],
      "metadata": {
        "id": "-49ErTmmyPlF"
      }
    },
    {
      "cell_type": "code",
      "source": [
        "import os\n",
        "\n",
        "filename = \"example.txt\"\n",
        "\n",
        "if os.path.exists(filename):\n",
        "    if os.path.getsize(filename) == 0:\n",
        "        print(f\"The file '{filename}' is empty.\")\n",
        "    else:\n",
        "        with open(filename, 'r') as file:\n",
        "            content = file.read()\n",
        "            print(\"File content:\\n\", content)\n",
        "else:\n",
        "    print(f\"Error: The file '{filename}' does not exist.\")"
      ],
      "metadata": {
        "colab": {
          "base_uri": "https://localhost:8080/"
        },
        "id": "hXhrOqmLyU08",
        "outputId": "374d9ce8-84fa-4206-f67c-0e639f707f92"
      },
      "execution_count": 28,
      "outputs": [
        {
          "output_type": "stream",
          "name": "stdout",
          "text": [
            "File content:\n",
            " This is a new line.\n",
            "This is a new line.\n",
            "\n"
          ]
        }
      ]
    },
    {
      "cell_type": "markdown",
      "source": [
        "23.  Write a Python program that writes to a log file when an error occurs during file handling."
      ],
      "metadata": {
        "id": "ypjUM5rSyjN8"
      }
    },
    {
      "cell_type": "code",
      "source": [
        "import logging\n",
        "\n",
        "\n",
        "logging.basicConfig(\n",
        "    filename='file_errors.log',\n",
        "    level=logging.ERROR,\n",
        "    format='%(asctime)s - %(levelname)s - %(message)s'\n",
        ")\n",
        "\n",
        "def read_file(filename):\n",
        "    try:\n",
        "        with open(filename, 'r') as file:\n",
        "            content = file.read()\n",
        "            print(\"File content:\\n\", content)\n",
        "    except FileNotFoundError as e:\n",
        "        logging.error(\"File not found: %s\", filename)\n",
        "        print(f\"Error: The file '{filename}' was not found.\")\n",
        "    except IOError as e:\n",
        "        logging.error(\"I/O error while reading '%s': %s\", filename, e)\n",
        "        print(f\"Error reading file '{filename}': {e}\")\n",
        "read_file(\"example.txt\")"
      ],
      "metadata": {
        "colab": {
          "base_uri": "https://localhost:8080/"
        },
        "id": "kZ30jj8hykRd",
        "outputId": "b82d258b-b0b2-4d34-b09a-befd0c186e1b"
      },
      "execution_count": 31,
      "outputs": [
        {
          "output_type": "stream",
          "name": "stdout",
          "text": [
            "File content:\n",
            " This is a new line.\n",
            "This is a new line.\n",
            "\n"
          ]
        }
      ]
    }
  ]
}