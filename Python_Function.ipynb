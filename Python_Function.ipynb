{
  "nbformat": 4,
  "nbformat_minor": 0,
  "metadata": {
    "colab": {
      "provenance": []
    },
    "kernelspec": {
      "name": "python3",
      "display_name": "Python 3"
    },
    "language_info": {
      "name": "python"
    }
  },
  "cells": [
    {
      "cell_type": "markdown",
      "source": [
        "1. What is the difference between a function and a method in Python?\n",
        "- A function is a block of reusable code defined using 'def'. A method is a function associated with an\n",
        " object or class. Example: str.upper() is a method, while len(str) is a function."
      ],
      "metadata": {
        "id": "E_zZkraY48NM"
      }
    },
    {
      "cell_type": "markdown",
      "source": [
        " 2. Explain the concept of function arguments and parameters in Python.\n",
        " - Parameters are placeholders defined in the function signature. Arguments are the actual values\n",
        " passed. Example: def add(a, b): return a+b; add(2, 3)."
      ],
      "metadata": {
        "id": "yUclJx3e5A_T"
      }
    },
    {
      "cell_type": "markdown",
      "source": [
        " 3. What are the different ways to define and call a function in Python?\n",
        " - You can define functions using 'def' or 'lambda'. Calling can be done by name with arguments,\n",
        " positional or keyword. Example: def greet(name): return f'Hello {name}'."
      ],
      "metadata": {
        "id": "_TUIA_xR5EmX"
      }
    },
    {
      "cell_type": "markdown",
      "source": [
        " 4. What is the purpose of the return statement in a Python function?\n",
        " - It sends a value back to the caller. Without return, a function gives None by default."
      ],
      "metadata": {
        "id": "Bv_S6azX5HA6"
      }
    },
    {
      "cell_type": "markdown",
      "source": [
        " 5. What are iterators in Python and how do they differ from iterables?\n",
        "- An iterable is an object that can return an iterator (like lists). An iterator is an object with __iter__()\n",
        " and __next__() methods. Example: iter([1,2,3])."
      ],
      "metadata": {
        "id": "V03btdnX5R0r"
      }
    },
    {
      "cell_type": "markdown",
      "source": [
        " 6. Explain the concept of generators in Python and how they are defined.\n",
        " - Generators are functions that use 'yield' instead of 'return'. They produce values lazily, one at a\n",
        " time"
      ],
      "metadata": {
        "id": "BzB346oq5WAU"
      }
    },
    {
      "cell_type": "markdown",
      "source": [
        " 7. What are the advantages of using generators over regular functions?\n",
        "- They use less memory, are lazy-evaluated, and suitable for large datasets or infinite sequences."
      ],
      "metadata": {
        "id": "BJUyD4Rh5Yov"
      }
    },
    {
      "cell_type": "markdown",
      "source": [
        " 8. What is a lambda function in Python and when is it typically used?\n",
        "- A lambda is an anonymous function defined with 'lambda' keyword, often used in map, filter, sort.\n",
        " Example: lambda x: x*2."
      ],
      "metadata": {
        "id": "SRdAh98h5bKR"
      }
    },
    {
      "cell_type": "markdown",
      "source": [
        " 9. Explain the purpose and usage of the map() function in Python.\n",
        "- map() applies a function to each element of an iterable. Example: map(str.upper, ['a','b'])."
      ],
      "metadata": {
        "id": "ygE9HrW15jk8"
      }
    },
    {
      "cell_type": "markdown",
      "source": [
        " 10. What is the difference between map(), reduce(), and filter()?\n",
        " - map() applies a function to all items. filter() selects items based on a condition. reduce() applies a\n",
        " rolling computation. Example: reduce(lambda x,y: x+y, [1,2,3])."
      ],
      "metadata": {
        "id": "3sm0uxhh58YY"
      }
    },
    {
      "cell_type": "markdown",
      "source": [
        " 11. Internal mechanism of reduce function on list [47,11,42,13].\n",
        "- Step 1: 47+11=58; Step 2: 58+42=100; Step 3: 100+13=113 → Final result: 113."
      ],
      "metadata": {
        "id": "pJiCJfhN6AUj"
      }
    },
    {
      "cell_type": "markdown",
      "source": [
        " 1. Sum of even numbers in a list"
      ],
      "metadata": {
        "id": "Ndv7Rwwb6DRK"
      }
    },
    {
      "cell_type": "code",
      "source": [
        "def sum_even(nums): return sum(x for x in nums if x%2==0)"
      ],
      "metadata": {
        "id": "wx_vipE_6Nqp"
      },
      "execution_count": 3,
      "outputs": []
    },
    {
      "cell_type": "markdown",
      "source": [
        " 2. Reverse a string"
      ],
      "metadata": {
        "id": "3Tig28Fg6VjF"
      }
    },
    {
      "cell_type": "code",
      "source": [
        " def reverse_string(s): return s[::-1]"
      ],
      "metadata": {
        "id": "7u5anS2X6WD1"
      },
      "execution_count": 4,
      "outputs": []
    },
    {
      "cell_type": "markdown",
      "source": [
        "3. Squares of list numbers"
      ],
      "metadata": {
        "id": "mLtdO3al6d4T"
      }
    },
    {
      "cell_type": "code",
      "source": [
        " def square_list(nums): return [x**2 for x in nums]"
      ],
      "metadata": {
        "id": "YiwXWlp86go9"
      },
      "execution_count": 6,
      "outputs": []
    },
    {
      "cell_type": "markdown",
      "source": [
        " 4. Prime check from 1 to 200"
      ],
      "metadata": {
        "id": "RVgGvnu66k65"
      }
    },
    {
      "cell_type": "code",
      "source": [
        "def is_prime(n): return all(n%i!=0 for i in range(2,int(n**0.5)+1)) and n>1"
      ],
      "metadata": {
        "id": "FG4nMT2U6oGY"
      },
      "execution_count": 7,
      "outputs": []
    },
    {
      "cell_type": "markdown",
      "source": [
        " 5. Fibonacci Iterator"
      ],
      "metadata": {
        "id": "JPqCU4K66r23"
      }
    },
    {
      "cell_type": "code",
      "source": [
        "class FibonacciIterator:\n",
        "    def __init__(self, max_terms):\n",
        "        self.max_terms = max_terms\n",
        "        self.count = 0\n",
        "        self.a, self.b = 0, 1\n",
        "\n",
        "    def __iter__(self):\n",
        "        return self\n",
        "\n",
        "    def __next__(self):\n",
        "        if self.count >= self.max_terms:\n",
        "            raise StopIteration\n",
        "        if self.count == 0:\n",
        "            self.count += 1\n",
        "            return 0\n",
        "        elif self.count == 1:\n",
        "            self.count += 1\n",
        "            return 1\n",
        "        else:\n",
        "            self.a, self.b = self.b, self.a + self.b\n",
        "            self.count += 1\n",
        "            return self.a\n",
        "\n",
        "\n",
        "n = 10\n",
        "fib = FibonacciIterator(n)\n",
        "for num in fib:\n",
        "    print(num)"
      ],
      "metadata": {
        "colab": {
          "base_uri": "https://localhost:8080/"
        },
        "id": "ox-T33cu747q",
        "outputId": "6a0bad12-2af6-469b-c760-860e9ce58834"
      },
      "execution_count": 10,
      "outputs": [
        {
          "output_type": "stream",
          "name": "stdout",
          "text": [
            "0\n",
            "1\n",
            "1\n",
            "1\n",
            "2\n",
            "3\n",
            "5\n",
            "8\n",
            "13\n",
            "21\n"
          ]
        }
      ]
    },
    {
      "cell_type": "markdown",
      "source": [
        "6. Generator powers of 2"
      ],
      "metadata": {
        "id": "iEm8Y8k776eU"
      }
    },
    {
      "cell_type": "code",
      "source": [
        "def powers_of_two(exp):\n",
        "  for i in range(exp+1): yield 2**i"
      ],
      "metadata": {
        "id": "DeU86G9R793-"
      },
      "execution_count": 12,
      "outputs": []
    },
    {
      "cell_type": "markdown",
      "source": [
        " 7. Generator to read file lines"
      ],
      "metadata": {
        "id": "T3bPTOj68FqD"
      }
    },
    {
      "cell_type": "code",
      "source": [
        "def read_file(filename):\n",
        "  with open(filename) as f:\n",
        "    for line in f: yield line.strip()"
      ],
      "metadata": {
        "id": "JwuFM_B18HlX"
      },
      "execution_count": 13,
      "outputs": []
    },
    {
      "cell_type": "markdown",
      "source": [
        "8. Lambda to sort list of tuples"
      ],
      "metadata": {
        "id": "8XsFXuVR8Q3p"
      }
    },
    {
      "cell_type": "code",
      "source": [
        "\n",
        "data = [(1, 3), (4, 1), (2, 5), (3, 2)]\n",
        "\n",
        "\n",
        "sorted_data = sorted(data, key=lambda x: x[1])\n",
        "\n",
        "print(sorted_data)"
      ],
      "metadata": {
        "colab": {
          "base_uri": "https://localhost:8080/"
        },
        "id": "HK4QwKCI8dJj",
        "outputId": "473219ca-118e-4741-d61f-1236bd434eaf"
      },
      "execution_count": 15,
      "outputs": [
        {
          "output_type": "stream",
          "name": "stdout",
          "text": [
            "[(4, 1), (3, 2), (1, 3), (2, 5)]\n"
          ]
        }
      ]
    },
    {
      "cell_type": "markdown",
      "source": [
        " 9. Convert Celsius to Fahrenheit using map"
      ],
      "metadata": {
        "id": "I_P7hg1z8j2x"
      }
    },
    {
      "cell_type": "code",
      "source": [
        "\n",
        "celsius = [0, 20, 37, 100]\n",
        "\n",
        "\n",
        "fahrenheit = list(map(lambda x: (x * 9/5) + 32, celsius))\n",
        "\n",
        "print(fahrenheit)"
      ],
      "metadata": {
        "colab": {
          "base_uri": "https://localhost:8080/"
        },
        "id": "wzuWAkBn82DP",
        "outputId": "e94a0b5b-fe60-48d4-956a-fb4e0c6237ff"
      },
      "execution_count": 17,
      "outputs": [
        {
          "output_type": "stream",
          "name": "stdout",
          "text": [
            "[32.0, 68.0, 98.6, 212.0]\n"
          ]
        }
      ]
    },
    {
      "cell_type": "markdown",
      "source": [
        "10. Remove vowels using filter"
      ],
      "metadata": {
        "id": "xGYpEgTP839F"
      }
    },
    {
      "cell_type": "code",
      "source": [
        "def remove_vowels(input_str):\n",
        "    vowels = 'aeiouAEIOU'\n",
        "    return ''.join(filter(lambda ch: ch not in vowels, input_str))\n",
        "\n",
        "# Example usage\n",
        "text = \"Hello, World!\"\n",
        "result = remove_vowels(text)\n",
        "print(result)"
      ],
      "metadata": {
        "colab": {
          "base_uri": "https://localhost:8080/"
        },
        "id": "VMFV7UND88MT",
        "outputId": "120177b9-bb18-49d5-e679-7d6866c04250"
      },
      "execution_count": 18,
      "outputs": [
        {
          "output_type": "stream",
          "name": "stdout",
          "text": [
            "Hll, Wrld!\n"
          ]
        }
      ]
    },
    {
      "cell_type": "markdown",
      "source": [
        " 11) Imagine an accounting routine used in a book shop. It works on a list with sublists, which look like this:"
      ],
      "metadata": {
        "id": "VxG1gjLv9L3N"
      }
    },
    {
      "cell_type": "code",
      "source": [
        "# [Book title, Quantity sold, Price per unit]\n",
        "transactions = [\n",
        "    [\"Python Basics\", 3, 450],\n",
        "    [\"Data Science 101\", 2, 600],\n",
        "    [\"AI for Everyone\", 1, 800],\n",
        "    [\"Deep Learning\", 4, 700]\n",
        "]"
      ],
      "metadata": {
        "id": "oc3f1LxS9R1X"
      },
      "execution_count": 19,
      "outputs": []
    },
    {
      "cell_type": "markdown",
      "source": [
        "Write a Python program, which returns a list with 2-tuples. Each tuple consists of the order number and the\n",
        "product of the price per item and the quantity. The product should be increased by 10,- € if the value of the\n",
        "order is smaller than 100,00 €."
      ],
      "metadata": {
        "id": "8TeqlPzW9YKY"
      }
    },
    {
      "cell_type": "code",
      "source": [
        "def process_orders(orders):\n",
        "    result = []\n",
        "    for order_num, quantity, price_per_item in orders:\n",
        "        total = quantity * price_per_item\n",
        "        if total < 100:\n",
        "            total += 10  # Add €10 surcharge\n",
        "        result.append((order_num, total))\n",
        "    return result\n",
        "\n",
        "# Example list of orders: (order number, quantity, price per item)\n",
        "orders = [\n",
        "    (101, 1, 50),     # 50 → +10 = 60\n",
        "    (102, 2, 30),     # 60 → +10 = 70\n",
        "    (103, 5, 25),     # 125 → no surcharge\n",
        "    (104, 1, 99.99),  # 99.99 → +10 = 109.99\n",
        "]\n",
        "\n",
        "# Run the program\n",
        "processed = process_orders(orders)\n",
        "print(processed)"
      ],
      "metadata": {
        "colab": {
          "base_uri": "https://localhost:8080/"
        },
        "id": "P5OO7aYA9f_k",
        "outputId": "adfe4c89-5b5f-4644-f0c0-cbdd5c4a507f"
      },
      "execution_count": 20,
      "outputs": [
        {
          "output_type": "stream",
          "name": "stdout",
          "text": [
            "[(101, 60), (102, 70), (103, 125), (104, 109.99)]\n"
          ]
        }
      ]
    },
    {
      "cell_type": "markdown",
      "source": [
        " Write a Python program using lambda and map."
      ],
      "metadata": {
        "id": "SePzyo5i9sPa"
      }
    },
    {
      "cell_type": "code",
      "source": [
        "# List of numbers\n",
        "numbers = [1, 2, 3, 4, 5]\n",
        "\n",
        "# Use lambda and map to square each number\n",
        "squared = list(map(lambda x: x ** 2, numbers))\n",
        "\n",
        "print(squared)"
      ],
      "metadata": {
        "colab": {
          "base_uri": "https://localhost:8080/"
        },
        "id": "B6Jya5sr9syd",
        "outputId": "ad76b583-90cf-40e9-e28e-492b1bc1dabd"
      },
      "execution_count": 21,
      "outputs": [
        {
          "output_type": "stream",
          "name": "stdout",
          "text": [
            "[1, 4, 9, 16, 25]\n"
          ]
        }
      ]
    }
  ]
}